{
  "nbformat": 4,
  "nbformat_minor": 0,
  "metadata": {
    "colab": {
      "name": "8851_HW4.ipynb",
      "provenance": [],
      "authorship_tag": "ABX9TyOQslA7a1F9J/cO41VBnGuU"
    },
    "kernelspec": {
      "name": "python3",
      "display_name": "Python 3"
    }
  },
  "cells": [
    {
      "cell_type": "code",
      "metadata": {
        "id": "UxuEG0nZmre5",
        "colab_type": "code",
        "colab": {
          "base_uri": "https://localhost:8080/",
          "height": 34
        },
        "outputId": "ab142370-d0bb-40c1-bbc4-87f807aec3cd"
      },
      "source": [
        "try:\n",
        "  # %tensorflow_version only exists in Colab.\n",
        "  %tensorflow_version 2.x\n",
        "except Exception:\n",
        "  pass\n",
        "\n",
        "import tensorflow as tf\n",
        "import numpy as np\n",
        "print(tf.__version__)"
      ],
      "execution_count": 10,
      "outputs": [
        {
          "output_type": "stream",
          "text": [
            "2.1.0\n"
          ],
          "name": "stdout"
        }
      ]
    },
    {
      "cell_type": "code",
      "metadata": {
        "id": "Ealie43Zwv0S",
        "colab_type": "code",
        "colab": {}
      },
      "source": [
        "x_train = np.transpose((np.random.rand(5,10000)-0.5)*2)\n",
        "y_train = np.max(x_train, axis=1)\n",
        "x_test = np.transpose((np.random.rand(5,5000)-0.5)*2)\n",
        "y_test = np.max(x_test,axis=1)"
      ],
      "execution_count": 0,
      "outputs": []
    },
    {
      "cell_type": "code",
      "metadata": {
        "id": "KEgZoOcDm5AJ",
        "colab_type": "code",
        "colab": {}
      },
      "source": [
        "model1 = tf.keras.models.Sequential()\n",
        "model1.add(tf.keras.layers.Dense(100,input_shape = (5,)))\n",
        "model1.add(tf.keras.layers.Dense(1, activation=\"relu\"))\n",
        "model1.compile(loss=\"mean_squared_error\", optimizer=\"adam\")\n",
        "history = model1.fit(x_train, y_train, epochs=30, validation_data=(x_test,y_test))\n",
        "#val_loss is the value of cost function for your cross-validation data and loss is the value of cost function for your training data"
      ],
      "execution_count": 0,
      "outputs": []
    },
    {
      "cell_type": "code",
      "metadata": {
        "id": "9wFLRQt6ycnz",
        "colab_type": "code",
        "colab": {}
      },
      "source": [
        "model2 = tf.keras.models.Sequential()\n",
        "model2.add(tf.keras.layers.Dense(20,input_shape = (5,)))\n",
        "model2.add(tf.keras.layers.Dense(20, activation=\"relu\"))\n",
        "model2.add(tf.keras.layers.Dense(20, activation=\"relu\"))\n",
        "model2.add(tf.keras.layers.Dense(20, activation=\"relu\"))\n",
        "model2.add(tf.keras.layers.Dense(20, activation=\"relu\"))\n",
        "model2.add(tf.keras.layers.Dense(20, activation=\"relu\"))\n",
        "model2.add(tf.keras.layers.Dense(1, activation=\"relu\"))\n",
        "model2.compile(loss=\"mean_squared_error\", optimizer=\"adam\")\n",
        "history2 = model2.fit(x_train, y_train, epochs=30, validation_data=(x_test,y_test))"
      ],
      "execution_count": 0,
      "outputs": []
    },
    {
      "cell_type": "code",
      "metadata": {
        "id": "1przx-Fc3JqO",
        "colab_type": "code",
        "colab": {}
      },
      "source": [
        "model3 = tf.keras.models.Sequential()\n",
        "model3.add(tf.keras.layers.Dense(100,input_shape = (5,)))\n",
        "model3.add(tf.keras.layers.Dense(1, activation=\"softmax\"))\n",
        "model3.compile(loss=\"mean_squared_error\", optimizer=\"adam\")\n",
        "history3 = model3.fit(x_train, y_train, epochs=30, validation_data=(x_test,y_test))"
      ],
      "execution_count": 0,
      "outputs": []
    },
    {
      "cell_type": "code",
      "metadata": {
        "id": "j4UAjOy70VAH",
        "colab_type": "code",
        "colab": {}
      },
      "source": [
        "model4 = tf.keras.models.Sequential()\n",
        "model4.add(tf.keras.layers.Dense(20,input_shape = (5,)))\n",
        "model4.add(tf.keras.layers.Dense(20, activation=\"softmax\"))\n",
        "model4.add(tf.keras.layers.Dense(20, activation=\"softmax\"))\n",
        "model4.add(tf.keras.layers.Dense(20, activation=\"softmax\"))\n",
        "model4.add(tf.keras.layers.Dense(20, activation=\"softmax\"))\n",
        "model4.add(tf.keras.layers.Dense(20, activation=\"softmax\"))\n",
        "model4.add(tf.keras.layers.Dense(1, activation=\"softmax\"))\n",
        "model4.compile(loss=\"mean_squared_error\", optimizer=\"adam\")\n",
        "history4 = model4.fit(x_train, y_train, epochs=30, validation_data=(x_test,y_test))"
      ],
      "execution_count": 0,
      "outputs": []
    },
    {
      "cell_type": "code",
      "metadata": {
        "id": "OoAkpt5O3c31",
        "colab_type": "code",
        "colab": {}
      },
      "source": [
        ""
      ],
      "execution_count": 0,
      "outputs": []
    }
  ]
}